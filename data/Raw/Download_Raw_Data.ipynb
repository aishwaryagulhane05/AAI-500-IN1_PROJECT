{
 "cells": [
  {
   "cell_type": "code",
   "execution_count": 1,
   "id": "7b7d479a-b8ca-4b41-98e9-ede546484f16",
   "metadata": {},
   "outputs": [
    {
     "name": "stdout",
     "output_type": "stream",
     "text": [
      "Collecting kagglehub\n",
      "  Downloading kagglehub-0.3.12-py3-none-any.whl.metadata (38 kB)\n",
      "Requirement already satisfied: packaging in /home/Isha/anaconda3/envs/usd_env/lib/python3.10/site-packages (from kagglehub) (25.0)\n",
      "Requirement already satisfied: pyyaml in /home/Isha/anaconda3/envs/usd_env/lib/python3.10/site-packages (from kagglehub) (6.0.2)\n",
      "Requirement already satisfied: requests in /home/Isha/anaconda3/envs/usd_env/lib/python3.10/site-packages (from kagglehub) (2.32.3)\n",
      "Requirement already satisfied: tqdm in /home/Isha/anaconda3/envs/usd_env/lib/python3.10/site-packages (from kagglehub) (4.67.1)\n",
      "Requirement already satisfied: charset_normalizer<4,>=2 in /home/Isha/anaconda3/envs/usd_env/lib/python3.10/site-packages (from requests->kagglehub) (3.4.2)\n",
      "Requirement already satisfied: idna<4,>=2.5 in /home/Isha/anaconda3/envs/usd_env/lib/python3.10/site-packages (from requests->kagglehub) (3.10)\n",
      "Requirement already satisfied: urllib3<3,>=1.21.1 in /home/Isha/anaconda3/envs/usd_env/lib/python3.10/site-packages (from requests->kagglehub) (2.4.0)\n",
      "Requirement already satisfied: certifi>=2017.4.17 in /home/Isha/anaconda3/envs/usd_env/lib/python3.10/site-packages (from requests->kagglehub) (2025.4.26)\n",
      "Downloading kagglehub-0.3.12-py3-none-any.whl (67 kB)\n",
      "Installing collected packages: kagglehub\n",
      "Successfully installed kagglehub-0.3.12\n",
      "Note: you may need to restart the kernel to use updated packages.\n"
     ]
    }
   ],
   "source": [
    "pip install kagglehub"
   ]
  },
  {
   "cell_type": "code",
   "execution_count": 3,
   "id": "5c6c5625-13d4-4aef-81a0-7f3f8fa87535",
   "metadata": {},
   "outputs": [
    {
     "name": "stdout",
     "output_type": "stream",
     "text": [
      "Downloading from https://www.kaggle.com/api/v1/datasets/download/gabrielramos87/an-online-shop-business?dataset_version_number=7...\n"
     ]
    },
    {
     "name": "stderr",
     "output_type": "stream",
     "text": [
      "100%|██████████████████████████████████████████████████████████████████████████████████████| 6.66M/6.66M [00:02<00:00, 2.78MB/s]"
     ]
    },
    {
     "name": "stdout",
     "output_type": "stream",
     "text": [
      "Extracting files...\n",
      "Downloaded to: /home/Isha/.cache/kagglehub/datasets/gabrielramos87/an-online-shop-business/versions/7\n",
      "✅ Files moved to: /home/Isha/USD/usd_project_aai_500/AAI-500-IN1_PROJECT/data/Raw\n"
     ]
    },
    {
     "name": "stderr",
     "output_type": "stream",
     "text": [
      "\n"
     ]
    }
   ],
   "source": [
    "import kagglehub\n",
    "import shutil\n",
    "import os\n",
    "\n",
    "# Step 1: Download to default kagglehub cache\n",
    "path = kagglehub.dataset_download(\"gabrielramos87/an-online-shop-business\")\n",
    "print(\"Downloaded to:\", path)\n",
    "\n",
    "# Step 2: Move to your desired folder\n",
    "destination_folder = \"/home/Isha/USD/usd_project_aai_500/AAI-500-IN1_PROJECT/data/Raw\"\n",
    "os.makedirs(destination_folder, exist_ok=True)\n",
    "\n",
    "# Step 3: Move all files from the KaggleHub cache to your folder\n",
    "for file_name in os.listdir(path):\n",
    "    source_file = os.path.join(path, file_name)\n",
    "    dest_file = os.path.join(destination_folder, file_name)\n",
    "    shutil.copy(source_file, dest_file)\n",
    "\n",
    "print(f\"✅ Files moved to: {destination_folder}\")\n"
   ]
  },
  {
   "cell_type": "code",
   "execution_count": null,
   "id": "9f419352-2fe3-4ebb-a280-7d8ec754f899",
   "metadata": {},
   "outputs": [],
   "source": []
  }
 ],
 "metadata": {
  "kernelspec": {
   "display_name": "Python 3 (ipykernel)",
   "language": "python",
   "name": "python3"
  },
  "language_info": {
   "codemirror_mode": {
    "name": "ipython",
    "version": 3
   },
   "file_extension": ".py",
   "mimetype": "text/x-python",
   "name": "python",
   "nbconvert_exporter": "python",
   "pygments_lexer": "ipython3",
   "version": "3.10.16"
  }
 },
 "nbformat": 4,
 "nbformat_minor": 5
}
