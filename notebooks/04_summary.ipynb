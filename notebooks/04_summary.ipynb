{
 "cells": [
  {
   "cell_type": "markdown",
   "id": "5c6a42ea-7379-436c-a664-4b32166c8eb9",
   "metadata": {},
   "source": [
    "## NOTE: Import module and use module prefix\n",
    "### To import module src directly mention file and use as prefix\n",
    "import data_utils\n",
    "data_utils.function_name();"
   ]
  },
  {
   "cell_type": "markdown",
   "id": "68a80443-0b4a-4902-b534-7449400460fe",
   "metadata": {
    "jp-MarkdownHeadingCollapsed": true
   },
   "source": [
    "## Phase 4: Report Writing Guidance\n",
    "\n",
    "### Final Technical Report Sections\n",
    "- Introduction\n",
    "- Data Cleaning\n",
    "- EDA\n",
    "- Model Selection\n",
    "- Model Analysis\n",
    "- Conclusion + Recommendations\n",
    "- Appendix: Code screenshots, visualizations, Jupyter outputs\n",
    "\n",
    "---\n",
    "\n",
    "### Video Presentation Tips\n",
    "- Equal participation\n",
    "- Use slides to explain data, methods, and visuals\n",
    "- Introduce team & individual roles\n",
    "- Mention if any AI tools (ChatGPT, Copilot) were used\n",
    "\n",
    "---\n",
    "\n",
    "### AI Usage Reminder\n",
    "- Mention AI tools used (e.g., ChatGPT) in footnotes or slide comments\n",
    "- Explain exactly how AI was used (e.g., \"Assisted in EDA summary writeup\")\n",
    "- Ensure you understand and modify all AI-generated content"
   ]
  }
 ],
 "metadata": {
  "kernelspec": {
   "display_name": "Python 3 (ipykernel)",
   "language": "python",
   "name": "python3"
  },
  "language_info": {
   "codemirror_mode": {
    "name": "ipython",
    "version": 3
   },
   "file_extension": ".py",
   "mimetype": "text/x-python",
   "name": "python",
   "nbconvert_exporter": "python",
   "pygments_lexer": "ipython3",
   "version": "3.10.16"
  }
 },
 "nbformat": 4,
 "nbformat_minor": 5
}
