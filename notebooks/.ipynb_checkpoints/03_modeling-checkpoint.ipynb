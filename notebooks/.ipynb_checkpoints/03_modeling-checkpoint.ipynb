{
 "cells": [
  {
   "cell_type": "markdown",
   "id": "d6151f29-eec8-4437-9048-f97e893ff44a",
   "metadata": {},
   "source": [
    "## NOTE: Import module and use module prefix\n",
    "### To import module src directly mention file and use as prefix\n",
    "import data_utils\n",
    "data_utils.function_name();"
   ]
  },
  {
   "cell_type": "markdown",
   "id": "980ee77a-9f87-4cf7-b48d-b7c5fe585634",
   "metadata": {},
   "source": [
    "## Phase 3: Model Selection & Tuning\n",
    "\n",
    "### 1. Split Dataset\n",
    "- Use `train_test_split()` (e.g., 80/20 or 70/30)\n",
    "- For classification, use `stratify=y` to maintain class proportions\n",
    "\n",
    "### 2. Try Baseline Models\n",
    "- Classification: Logistic Regression, KNN, Decision Tree, Naive Bayes, Random Forest\n",
    "- Regression: Linear, Ridge, Lasso, Decision Tree Regressor\n",
    "\n",
    "### 3. Evaluate Performance\n",
    "- Regression:\n",
    "  - MSE, RMSE, MAE, R² Score\n",
    "- Classification:\n",
    "  - Accuracy, Precision, Recall, F1 Score, ROC-AUC\n",
    "\n",
    "### 4. Cross-Validation\n",
    "- Use K-Fold Cross Validation (k=5 or 10)\n",
    "- Check mean and std deviation of scores\n",
    "\n",
    "### 5. Hyperparameter Tuning\n",
    "- Use `GridSearchCV` or `RandomizedSearchCV`\n",
    "- Optimize model based on cross-validation score\n",
    "\n",
    "### 6. Model Explainability\n",
    "- Tree Models: Use `.feature_importances_`\n",
    "- Linear Models: Use coefficients\n",
    "- SHAP values for global and local explainability"
   ]
  }
 ],
 "metadata": {
  "kernelspec": {
   "display_name": "Python 3 (ipykernel)",
   "language": "python",
   "name": "python3"
  },
  "language_info": {
   "codemirror_mode": {
    "name": "ipython",
    "version": 3
   },
   "file_extension": ".py",
   "mimetype": "text/x-python",
   "name": "python",
   "nbconvert_exporter": "python",
   "pygments_lexer": "ipython3",
   "version": "3.10.16"
  }
 },
 "nbformat": 4,
 "nbformat_minor": 5
}
