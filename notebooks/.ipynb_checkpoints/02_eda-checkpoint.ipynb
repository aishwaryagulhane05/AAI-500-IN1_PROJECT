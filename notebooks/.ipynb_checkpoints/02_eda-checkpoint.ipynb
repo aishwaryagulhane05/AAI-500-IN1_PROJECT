{
 "cells": [
  {
   "cell_type": "markdown",
   "id": "5d885f31-752d-49e2-b663-320670f55c26",
   "metadata": {},
   "source": [
    "## Phase 2: Exploratory Data Analysis (EDA)\n",
    "\n",
    "### 1. Univariate Analysis\n",
    "- Numerical: Histograms, KDE plots, Box plots\n",
    "- Categorical: Bar plots, value counts\n",
    "- Fit probability distributions:\n",
    "  - Example: Fit Normal distribution using `scipy.stats.norm.fit()`\n",
    "\n",
    "### 2. Bivariate Analysis\n",
    "- Categorical vs Numeric: Box plots, `groupby()` analysis\n",
    "- Numeric vs Numeric: Scatter plots, correlation heatmaps\n",
    "- Categorical vs Categorical: Contingency tables + Chi-square test\n",
    "\n",
    "### 3. Hypothesis Testing\n",
    "- Use:\n",
    "  - t-test: Compare means of two groups\n",
    "  - ANOVA: Compare means of 3+ groups\n",
    "  - Chi-square: Test independence in categorical variables\n",
    "\n",
    "### 4. Feature-Target Relationship\n",
    "- Classification: Mutual Information, Point-Biserial Correlation\n",
    "- Regression: Pearson Correlation, Scatter plots\n",
    "- VIF (Variance Inflation Factor) to check multicollinearity\n"
   ]
  }
 ],
 "metadata": {
  "kernelspec": {
   "display_name": "Python 3 (ipykernel)",
   "language": "python",
   "name": "python3"
  },
  "language_info": {
   "codemirror_mode": {
    "name": "ipython",
    "version": 3
   },
   "file_extension": ".py",
   "mimetype": "text/x-python",
   "name": "python",
   "nbconvert_exporter": "python",
   "pygments_lexer": "ipython3",
   "version": "3.8.20"
  }
 },
 "nbformat": 4,
 "nbformat_minor": 5
}
