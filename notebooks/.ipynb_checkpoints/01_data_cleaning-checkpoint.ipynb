{
 "cells": [
  {
   "cell_type": "markdown",
   "id": "a7cd0d58-99e7-4f95-9138-7c2b5ebde1e5",
   "metadata": {},
   "source": [
    "## Phase 1: Data Cleaning & Preparation\n",
    "\n",
    "### 1. Understand the Schema & Data Types\n",
    "- Use descriptive statistics: `mean`, `median`, `mode`, `std` via `df.describe()`\n",
    "- Check and fix data types: `int`, `float`, `object`\n",
    "\n",
    "### 2. Identify Missing Data\n",
    "- Use: `df.isnull().sum()`\n",
    "- Strategy:\n",
    "  - < 5% missing: Impute using mean/median/mode\n",
    "  - Categorical: Impute with mode or \"Unknown\"\n",
    "  - High missing: Drop column or use advanced imputation (e.g., KNN)\n",
    "\n",
    "### 3. Outlier Detection (Using Probability)\n",
    "- Z-score: `z = (x - μ) / σ` → Flag if `|z| > 3`\n",
    "- IQR Method:\n",
    "  - `IQR = Q3 - Q1`\n",
    "  - Outliers: `x < Q1 - 1.5*IQR` or `x > Q3 + 1.5*IQR`\n",
    "\n",
    "### 4. Feature Engineering\n",
    "- Encode categorical features:\n",
    "  - Label Encoding, One-Hot Encoding\n",
    "- Normalize or standardize numerical features:\n",
    "  - `StandardScaler`, `MinMaxScaler`\n",
    "\n",
    "### 5. Correlation Matrix\n",
    "- Use Pearson/Spearman correlation\n",
    "- Drop highly correlated features (`|r| > 0.9`) to avoid multicollinearity"
   ]
  }
 ],
 "metadata": {
  "kernelspec": {
   "display_name": "Python 3 (ipykernel)",
   "language": "python",
   "name": "python3"
  },
  "language_info": {
   "codemirror_mode": {
    "name": "ipython",
    "version": 3
   },
   "file_extension": ".py",
   "mimetype": "text/x-python",
   "name": "python",
   "nbconvert_exporter": "python",
   "pygments_lexer": "ipython3",
   "version": "3.8.20"
  }
 },
 "nbformat": 4,
 "nbformat_minor": 5
}
