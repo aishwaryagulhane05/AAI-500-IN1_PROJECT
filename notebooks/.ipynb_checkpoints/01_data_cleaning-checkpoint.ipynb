{
 "cells": [
  {
   "cell_type": "markdown",
   "id": "78e20941-8ffd-42c8-a412-a0f47a1ac717",
   "metadata": {},
   "source": [
    "#### Contributor: Yogesh Sangwikar"
   ]
  },
  {
   "cell_type": "markdown",
   "id": "dca06440-91a2-492b-98b2-9f102ee017ee",
   "metadata": {},
   "source": [
    "# DATA CLEANING"
   ]
  },
  {
   "cell_type": "code",
   "execution_count": 6,
   "id": "bfb7021c-e723-4dc6-b3b0-20e9ed60ab28",
   "metadata": {},
   "outputs": [],
   "source": [
    "# Importing Necessary Libraries \n",
    "import os\n",
    "import pandas as pd \n",
    "import numpy as np\n",
    "import matplotlib.pyplot as plt\n",
    "import seaborn as sns"
   ]
  },
  {
   "cell_type": "markdown",
   "id": "0102b61c-c37e-4b7c-9aeb-ba8e11c78b19",
   "metadata": {},
   "source": [
    "### Loading Data from data/raw file"
   ]
  },
  {
   "cell_type": "code",
   "execution_count": 14,
   "id": "436e6aa1-c2d7-47e1-adf7-6ad4cab923ea",
   "metadata": {},
   "outputs": [],
   "source": [
    "# read the sales file first \n",
    "sales_data = pd.read_csv(\"/home/Isha/USD/usd_project_aai_500/AAI-500-IN1_PROJECT/data/Raw/Sales Transaction v.4a.csv\")# I have uploaded this csv file in my home directory \n",
    "# you may have to check this location of file \n",
    "#\"C:\\Users\\yogsa\\OneDrive\\Documents\"\n",
    "\n",
    "# Ensure the output directory exists\n",
    "output_dir = \"/home/Isha/USD/usd_project_aai_500/AAI-500-IN1_PROJECT/visuals/data_cleansing_charts\"\n",
    "os.makedirs(output_dir, exist_ok=True)\n"
   ]
  },
  {
   "cell_type": "code",
   "execution_count": 15,
   "id": "6588fc43-229c-44c6-bcbb-3c09728f5414",
   "metadata": {},
   "outputs": [
    {
     "data": {
      "text/html": [
       "<div>\n",
       "<style scoped>\n",
       "    .dataframe tbody tr th:only-of-type {\n",
       "        vertical-align: middle;\n",
       "    }\n",
       "\n",
       "    .dataframe tbody tr th {\n",
       "        vertical-align: top;\n",
       "    }\n",
       "\n",
       "    .dataframe thead th {\n",
       "        text-align: right;\n",
       "    }\n",
       "</style>\n",
       "<table border=\"1\" class=\"dataframe\">\n",
       "  <thead>\n",
       "    <tr style=\"text-align: right;\">\n",
       "      <th></th>\n",
       "      <th>TransactionNo</th>\n",
       "      <th>Date</th>\n",
       "      <th>ProductNo</th>\n",
       "      <th>ProductName</th>\n",
       "      <th>Price</th>\n",
       "      <th>Quantity</th>\n",
       "      <th>CustomerNo</th>\n",
       "      <th>Country</th>\n",
       "    </tr>\n",
       "  </thead>\n",
       "  <tbody>\n",
       "    <tr>\n",
       "      <th>0</th>\n",
       "      <td>581482</td>\n",
       "      <td>12/9/2019</td>\n",
       "      <td>22485</td>\n",
       "      <td>Set Of 2 Wooden Market Crates</td>\n",
       "      <td>21.47</td>\n",
       "      <td>12</td>\n",
       "      <td>17490.0</td>\n",
       "      <td>United Kingdom</td>\n",
       "    </tr>\n",
       "    <tr>\n",
       "      <th>1</th>\n",
       "      <td>581475</td>\n",
       "      <td>12/9/2019</td>\n",
       "      <td>22596</td>\n",
       "      <td>Christmas Star Wish List Chalkboard</td>\n",
       "      <td>10.65</td>\n",
       "      <td>36</td>\n",
       "      <td>13069.0</td>\n",
       "      <td>United Kingdom</td>\n",
       "    </tr>\n",
       "    <tr>\n",
       "      <th>2</th>\n",
       "      <td>581475</td>\n",
       "      <td>12/9/2019</td>\n",
       "      <td>23235</td>\n",
       "      <td>Storage Tin Vintage Leaf</td>\n",
       "      <td>11.53</td>\n",
       "      <td>12</td>\n",
       "      <td>13069.0</td>\n",
       "      <td>United Kingdom</td>\n",
       "    </tr>\n",
       "    <tr>\n",
       "      <th>3</th>\n",
       "      <td>581475</td>\n",
       "      <td>12/9/2019</td>\n",
       "      <td>23272</td>\n",
       "      <td>Tree T-Light Holder Willie Winkie</td>\n",
       "      <td>10.65</td>\n",
       "      <td>12</td>\n",
       "      <td>13069.0</td>\n",
       "      <td>United Kingdom</td>\n",
       "    </tr>\n",
       "    <tr>\n",
       "      <th>4</th>\n",
       "      <td>581475</td>\n",
       "      <td>12/9/2019</td>\n",
       "      <td>23239</td>\n",
       "      <td>Set Of 4 Knick Knack Tins Poppies</td>\n",
       "      <td>11.94</td>\n",
       "      <td>6</td>\n",
       "      <td>13069.0</td>\n",
       "      <td>United Kingdom</td>\n",
       "    </tr>\n",
       "  </tbody>\n",
       "</table>\n",
       "</div>"
      ],
      "text/plain": [
       "  TransactionNo       Date ProductNo                          ProductName  \\\n",
       "0        581482  12/9/2019     22485        Set Of 2 Wooden Market Crates   \n",
       "1        581475  12/9/2019     22596  Christmas Star Wish List Chalkboard   \n",
       "2        581475  12/9/2019     23235             Storage Tin Vintage Leaf   \n",
       "3        581475  12/9/2019     23272    Tree T-Light Holder Willie Winkie   \n",
       "4        581475  12/9/2019     23239    Set Of 4 Knick Knack Tins Poppies   \n",
       "\n",
       "   Price  Quantity  CustomerNo         Country  \n",
       "0  21.47        12     17490.0  United Kingdom  \n",
       "1  10.65        36     13069.0  United Kingdom  \n",
       "2  11.53        12     13069.0  United Kingdom  \n",
       "3  10.65        12     13069.0  United Kingdom  \n",
       "4  11.94         6     13069.0  United Kingdom  "
      ]
     },
     "execution_count": 15,
     "metadata": {},
     "output_type": "execute_result"
    }
   ],
   "source": [
    "#check few top and bottom values\n",
    "sales_data.head(5)"
   ]
  },
  {
   "cell_type": "code",
   "execution_count": 16,
   "id": "c869674c-99ef-49cf-8b6f-6b4a6d95f03b",
   "metadata": {},
   "outputs": [
    {
     "data": {
      "text/html": [
       "<div>\n",
       "<style scoped>\n",
       "    .dataframe tbody tr th:only-of-type {\n",
       "        vertical-align: middle;\n",
       "    }\n",
       "\n",
       "    .dataframe tbody tr th {\n",
       "        vertical-align: top;\n",
       "    }\n",
       "\n",
       "    .dataframe thead th {\n",
       "        text-align: right;\n",
       "    }\n",
       "</style>\n",
       "<table border=\"1\" class=\"dataframe\">\n",
       "  <thead>\n",
       "    <tr style=\"text-align: right;\">\n",
       "      <th></th>\n",
       "      <th>TransactionNo</th>\n",
       "      <th>Date</th>\n",
       "      <th>ProductNo</th>\n",
       "      <th>ProductName</th>\n",
       "      <th>Price</th>\n",
       "      <th>Quantity</th>\n",
       "      <th>CustomerNo</th>\n",
       "      <th>Country</th>\n",
       "    </tr>\n",
       "  </thead>\n",
       "  <tbody>\n",
       "    <tr>\n",
       "      <th>536345</th>\n",
       "      <td>C536548</td>\n",
       "      <td>12/1/2018</td>\n",
       "      <td>22168</td>\n",
       "      <td>Organiser Wood Antique White</td>\n",
       "      <td>18.96</td>\n",
       "      <td>-2</td>\n",
       "      <td>12472.0</td>\n",
       "      <td>Germany</td>\n",
       "    </tr>\n",
       "    <tr>\n",
       "      <th>536346</th>\n",
       "      <td>C536548</td>\n",
       "      <td>12/1/2018</td>\n",
       "      <td>21218</td>\n",
       "      <td>Red Spotty Biscuit Tin</td>\n",
       "      <td>14.09</td>\n",
       "      <td>-3</td>\n",
       "      <td>12472.0</td>\n",
       "      <td>Germany</td>\n",
       "    </tr>\n",
       "    <tr>\n",
       "      <th>536347</th>\n",
       "      <td>C536548</td>\n",
       "      <td>12/1/2018</td>\n",
       "      <td>20957</td>\n",
       "      <td>Porcelain Hanging Bell Small</td>\n",
       "      <td>11.74</td>\n",
       "      <td>-1</td>\n",
       "      <td>12472.0</td>\n",
       "      <td>Germany</td>\n",
       "    </tr>\n",
       "    <tr>\n",
       "      <th>536348</th>\n",
       "      <td>C536548</td>\n",
       "      <td>12/1/2018</td>\n",
       "      <td>22580</td>\n",
       "      <td>Advent Calendar Gingham Sack</td>\n",
       "      <td>16.35</td>\n",
       "      <td>-4</td>\n",
       "      <td>12472.0</td>\n",
       "      <td>Germany</td>\n",
       "    </tr>\n",
       "    <tr>\n",
       "      <th>536349</th>\n",
       "      <td>C536548</td>\n",
       "      <td>12/1/2018</td>\n",
       "      <td>22767</td>\n",
       "      <td>Triple Photo Frame Cornice</td>\n",
       "      <td>20.45</td>\n",
       "      <td>-2</td>\n",
       "      <td>12472.0</td>\n",
       "      <td>Germany</td>\n",
       "    </tr>\n",
       "  </tbody>\n",
       "</table>\n",
       "</div>"
      ],
      "text/plain": [
       "       TransactionNo       Date ProductNo                   ProductName  \\\n",
       "536345       C536548  12/1/2018     22168  Organiser Wood Antique White   \n",
       "536346       C536548  12/1/2018     21218        Red Spotty Biscuit Tin   \n",
       "536347       C536548  12/1/2018     20957  Porcelain Hanging Bell Small   \n",
       "536348       C536548  12/1/2018     22580  Advent Calendar Gingham Sack   \n",
       "536349       C536548  12/1/2018     22767    Triple Photo Frame Cornice   \n",
       "\n",
       "        Price  Quantity  CustomerNo  Country  \n",
       "536345  18.96        -2     12472.0  Germany  \n",
       "536346  14.09        -3     12472.0  Germany  \n",
       "536347  11.74        -1     12472.0  Germany  \n",
       "536348  16.35        -4     12472.0  Germany  \n",
       "536349  20.45        -2     12472.0  Germany  "
      ]
     },
     "execution_count": 16,
     "metadata": {},
     "output_type": "execute_result"
    }
   ],
   "source": [
    "sales_data.tail(5)"
   ]
  },
  {
   "cell_type": "markdown",
   "id": "424279eb-7732-4676-8219-41d8837886d3",
   "metadata": {},
   "source": [
    "#### Observation: few values in Quanity column seem to have negative values !\n",
    "#### On reading about this data , we got to know that negative quantity values are corresponding to the sales cancellation !\n",
    "#### This can also be identified, as we see a  \"C\" alphabet in front of the transaction no data \n",
    "#### These peculiarities of data need to be considered while processing!"
   ]
  },
  {
   "cell_type": "code",
   "execution_count": 17,
   "id": "85653bb2-9f5d-4906-9ec0-7ea356f6b92e",
   "metadata": {},
   "outputs": [
    {
     "data": {
      "text/plain": [
       "(536350, 8)"
      ]
     },
     "execution_count": 17,
     "metadata": {},
     "output_type": "execute_result"
    }
   ],
   "source": [
    "# know the shape of data, i.e. number of rows and columns\n",
    "sales_data.shape\n"
   ]
  },
  {
   "cell_type": "markdown",
   "id": "5bf17045-318d-4c49-a575-241b20c77735",
   "metadata": {},
   "source": [
    "#### This raw data without any cleaning activity has 536350 rows and 8 columns "
   ]
  },
  {
   "cell_type": "code",
   "execution_count": 18,
   "id": "f4de4cbb-ed9a-47e8-b75e-e6c98beef5d1",
   "metadata": {},
   "outputs": [
    {
     "name": "stdout",
     "output_type": "stream",
     "text": [
      "<class 'pandas.core.frame.DataFrame'>\n",
      "RangeIndex: 536350 entries, 0 to 536349\n",
      "Data columns (total 8 columns):\n",
      " #   Column         Non-Null Count   Dtype  \n",
      "---  ------         --------------   -----  \n",
      " 0   TransactionNo  536350 non-null  object \n",
      " 1   Date           536350 non-null  object \n",
      " 2   ProductNo      536350 non-null  object \n",
      " 3   ProductName    536350 non-null  object \n",
      " 4   Price          536350 non-null  float64\n",
      " 5   Quantity       536350 non-null  int64  \n",
      " 6   CustomerNo     536295 non-null  float64\n",
      " 7   Country        536350 non-null  object \n",
      "dtypes: float64(2), int64(1), object(5)\n",
      "memory usage: 32.7+ MB\n"
     ]
    }
   ],
   "source": [
    "# lets look at the columns info and datatypes \n",
    "sales_data.info()"
   ]
  },
  {
   "cell_type": "markdown",
   "id": "04d4e097-cc2a-4ebc-a76a-35032f71d926",
   "metadata": {},
   "source": [
    "#### Few observations on data types :\n",
    "- ProductNo and TransactionNo  columns have been kept as String/ object data, we need to find out why ?\n",
    "- The date column is object type, which is incorrect , it needs to be changed to date type !\n",
    "- The customerNo column is float, which can be changed to integer , as there are no need of any decimal places\n",
    "- The Quanity is in integers , so there is no qty in fractions "
   ]
  },
  {
   "cell_type": "code",
   "execution_count": 19,
   "id": "b9fb5f60-8728-4ed7-ad42-14bfc9f7ca60",
   "metadata": {},
   "outputs": [
    {
     "name": "stdout",
     "output_type": "stream",
     "text": [
      "Yes, there are non-numeric values in the 'TransactionNo' column.\n"
     ]
    }
   ],
   "source": [
    "# checking why the transactionNo column is object datatype ? does it have non numeric values ?\n",
    "is_numeric_series = sales_data['TransactionNo'].astype(str).str.isnumeric()\n",
    "\n",
    "# Check if there are ANY False values (meaning, any non-numeric strings)\n",
    "are_there_non_numeric = ~is_numeric_series.all()\n",
    "\n",
    "if are_there_non_numeric:\n",
    "    print(\"Yes, there are non-numeric values in the 'TransactionNo' column.\")\n",
    "else:\n",
    "    print(\"No, all values in the 'TransactionNo' column appear to be numeric strings.\")\n"
   ]
  },
  {
   "cell_type": "code",
   "execution_count": 20,
   "id": "3da0c7e3-89b6-434d-90f5-cf6afbde0f6c",
   "metadata": {},
   "outputs": [
    {
     "name": "stdout",
     "output_type": "stream",
     "text": [
      "Yes, there are non-numeric values in the 'ProductNo' column.\n"
     ]
    }
   ],
   "source": [
    "# silimarly checking whether the productno column is object data type ? Does this also have some non numeric values ?\n",
    "is_numeric_series = sales_data['ProductNo'].astype(str).str.isnumeric()\n",
    "\n",
    "# Check if there are ANY False values (meaning, any non-numeric strings)\n",
    "are_there_non_numeric = ~is_numeric_series.all()\n",
    "\n",
    "if are_there_non_numeric:\n",
    "    print(\"Yes, there are non-numeric values in the 'ProductNo' column.\")\n",
    "else:\n",
    "    print(\"No, all values in the 'ProductNo' column appear to be numeric strings.\")\n"
   ]
  },
  {
   "cell_type": "markdown",
   "id": "03541a70-e0be-4d51-87cf-510ee2934f72",
   "metadata": {},
   "source": [
    "#### So both the above ouputs confirm that the data in these columns has non numeric values also, hence they have been kept as object type "
   ]
  },
  {
   "cell_type": "code",
   "execution_count": 15,
   "id": "de2913a6-37c8-436d-a6ec-8752ab32ea88",
   "metadata": {},
   "outputs": [
    {
     "name": "stdout",
     "output_type": "stream",
     "text": [
      "TransactionNo    False\n",
      "Date             False\n",
      "ProductNo        False\n",
      "ProductName      False\n",
      "Price            False\n",
      "Quantity         False\n",
      "CustomerNo        True\n",
      "Country          False\n",
      "dtype: bool\n"
     ]
    }
   ],
   "source": [
    "##### Check whether there are any null values ?\n",
    "null_values = sales_data.isna().any()\n",
    "print(null_values)"
   ]
  },
  {
   "cell_type": "markdown",
   "id": "6c7f1ffe-d80a-49e8-8799-b757f7215561",
   "metadata": {},
   "source": [
    "#### Observation: This confirms that there are null values in customerNo\n",
    "#### need to check how many records are having null values "
   ]
  },
  {
   "cell_type": "code",
   "execution_count": 17,
   "id": "0f528bfd-c705-46bd-899d-8976cc1a78e5",
   "metadata": {},
   "outputs": [
    {
     "data": {
      "text/plain": [
       "55"
      ]
     },
     "execution_count": 17,
     "metadata": {},
     "output_type": "execute_result"
    }
   ],
   "source": [
    "null_val_count = sales_data['CustomerNo'].isna().sum()\n",
    "null_val_count"
   ]
  },
  {
   "cell_type": "markdown",
   "id": "56dffb0b-bc11-46fe-aede-805786388fee",
   "metadata": {},
   "source": [
    "#### There are 55 records in CustomerNo column which have null values\n",
    "#### Since these records are very low ( 55 / 536350) , i.e just 0.01 % , we easily take a call to delete them as it will not effect our anlaysis and recommendation in any way !"
   ]
  },
  {
   "cell_type": "code",
   "execution_count": 19,
   "id": "fd58a956-f700-4e80-889e-495bfc235cc4",
   "metadata": {},
   "outputs": [
    {
     "data": {
      "text/plain": [
       "(536295, 8)"
      ]
     },
     "execution_count": 19,
     "metadata": {},
     "output_type": "execute_result"
    }
   ],
   "source": [
    "# deleting the null values from the main file itself \n",
    "sales_data.dropna(inplace=True)\n",
    "# confirm whether 55 records have been deleted \n",
    "sales_data.shape \n"
   ]
  },
  {
   "cell_type": "markdown",
   "id": "eaddbd68-39fa-4739-bcaf-69256dfbabc8",
   "metadata": {},
   "source": [
    "#### we see that the number of records are now 536295 which confirms that 55 records have been deleted "
   ]
  },
  {
   "cell_type": "code",
   "execution_count": 21,
   "id": "07ee7ba5-8971-4e72-8991-b8f727f74f9b",
   "metadata": {},
   "outputs": [
    {
     "name": "stdout",
     "output_type": "stream",
     "text": [
      "TransactionNo    False\n",
      "Date             False\n",
      "ProductNo        False\n",
      "ProductName      False\n",
      "Price            False\n",
      "Quantity         False\n",
      "CustomerNo       False\n",
      "Country          False\n",
      "dtype: bool\n"
     ]
    }
   ],
   "source": [
    "##### Once again confirm and Check whether there are any null values ?\n",
    "null_values = sales_data.isna().any()\n",
    "print(null_values)"
   ]
  },
  {
   "cell_type": "markdown",
   "id": "9a411e87-83ed-45ef-a985-ba7be8512acd",
   "metadata": {},
   "source": [
    "#### Observation: Confirmed that now there are no null values "
   ]
  },
  {
   "cell_type": "markdown",
   "id": "e621881b-3b6f-4d6a-91c2-8aec4b3af7b9",
   "metadata": {},
   "source": [
    "#### Data Cleaning activities\n",
    "#### One of the Data Cleaning activities is to have the correct data types \n",
    "#### Lets change the datecolumn data to the right \"date\" format and change the CustomerNo to integer typw "
   ]
  },
  {
   "cell_type": "code",
   "execution_count": 24,
   "id": "81a5718c-5bae-453e-b5f0-6e1df5e37e01",
   "metadata": {},
   "outputs": [
    {
     "name": "stdout",
     "output_type": "stream",
     "text": [
      "<class 'pandas.core.frame.DataFrame'>\n",
      "Index: 536295 entries, 0 to 536349\n",
      "Data columns (total 8 columns):\n",
      " #   Column         Non-Null Count   Dtype         \n",
      "---  ------         --------------   -----         \n",
      " 0   TransactionNo  536295 non-null  object        \n",
      " 1   Date           536295 non-null  datetime64[ns]\n",
      " 2   ProductNo      536295 non-null  object        \n",
      " 3   ProductName    536295 non-null  object        \n",
      " 4   Price          536295 non-null  float64       \n",
      " 5   Quantity       536295 non-null  int64         \n",
      " 6   CustomerNo     536295 non-null  float64       \n",
      " 7   Country        536295 non-null  object        \n",
      "dtypes: datetime64[ns](1), float64(2), int64(1), object(4)\n",
      "memory usage: 36.8+ MB\n"
     ]
    }
   ],
   "source": [
    "# astype\n",
    "# we had to use, format = Mixed as the data was very inconsitent in format \n",
    "sales_data['Date'] = pd.to_datetime(sales_data['Date'], format='mixed', dayfirst=False, errors='coerce')\n",
    "sales_data.info()"
   ]
  },
  {
   "cell_type": "markdown",
   "id": "dc6f6653-59be-437f-8999-3f7e69ba5f77",
   "metadata": {},
   "source": [
    "#### Check whether there are any Duplicate values \n"
   ]
  },
  {
   "cell_type": "code",
   "execution_count": 26,
   "id": "4f1cd9dc-2316-436a-8056-3288b92b8b99",
   "metadata": {},
   "outputs": [
    {
     "data": {
      "text/html": [
       "<div>\n",
       "<style scoped>\n",
       "    .dataframe tbody tr th:only-of-type {\n",
       "        vertical-align: middle;\n",
       "    }\n",
       "\n",
       "    .dataframe tbody tr th {\n",
       "        vertical-align: top;\n",
       "    }\n",
       "\n",
       "    .dataframe thead th {\n",
       "        text-align: right;\n",
       "    }\n",
       "</style>\n",
       "<table border=\"1\" class=\"dataframe\">\n",
       "  <thead>\n",
       "    <tr style=\"text-align: right;\">\n",
       "      <th></th>\n",
       "      <th>TransactionNo</th>\n",
       "      <th>Date</th>\n",
       "      <th>ProductNo</th>\n",
       "      <th>ProductName</th>\n",
       "      <th>Price</th>\n",
       "      <th>Quantity</th>\n",
       "      <th>CustomerNo</th>\n",
       "      <th>Country</th>\n",
       "    </tr>\n",
       "  </thead>\n",
       "  <tbody>\n",
       "    <tr>\n",
       "      <th>985</th>\n",
       "      <td>581497</td>\n",
       "      <td>2019-12-09</td>\n",
       "      <td>21481</td>\n",
       "      <td>Fawn Blue Hot Water Bottle</td>\n",
       "      <td>7.24</td>\n",
       "      <td>1</td>\n",
       "      <td>17497.0</td>\n",
       "      <td>United Kingdom</td>\n",
       "    </tr>\n",
       "    <tr>\n",
       "      <th>1365</th>\n",
       "      <td>581538</td>\n",
       "      <td>2019-12-09</td>\n",
       "      <td>23275</td>\n",
       "      <td>Set Of 3 Hanging Owls Ollie Beak</td>\n",
       "      <td>6.19</td>\n",
       "      <td>1</td>\n",
       "      <td>14446.0</td>\n",
       "      <td>United Kingdom</td>\n",
       "    </tr>\n",
       "    <tr>\n",
       "      <th>1401</th>\n",
       "      <td>581538</td>\n",
       "      <td>2019-12-09</td>\n",
       "      <td>22992</td>\n",
       "      <td>Revolver Wooden Ruler</td>\n",
       "      <td>6.19</td>\n",
       "      <td>1</td>\n",
       "      <td>14446.0</td>\n",
       "      <td>United Kingdom</td>\n",
       "    </tr>\n",
       "    <tr>\n",
       "      <th>1406</th>\n",
       "      <td>581538</td>\n",
       "      <td>2019-12-09</td>\n",
       "      <td>22694</td>\n",
       "      <td>Wicker Star</td>\n",
       "      <td>6.19</td>\n",
       "      <td>1</td>\n",
       "      <td>14446.0</td>\n",
       "      <td>United Kingdom</td>\n",
       "    </tr>\n",
       "    <tr>\n",
       "      <th>1409</th>\n",
       "      <td>581538</td>\n",
       "      <td>2019-12-09</td>\n",
       "      <td>23343</td>\n",
       "      <td>Jumbo Bag Vintage Christmas</td>\n",
       "      <td>6.19</td>\n",
       "      <td>1</td>\n",
       "      <td>14446.0</td>\n",
       "      <td>United Kingdom</td>\n",
       "    </tr>\n",
       "    <tr>\n",
       "      <th>...</th>\n",
       "      <td>...</td>\n",
       "      <td>...</td>\n",
       "      <td>...</td>\n",
       "      <td>...</td>\n",
       "      <td>...</td>\n",
       "      <td>...</td>\n",
       "      <td>...</td>\n",
       "      <td>...</td>\n",
       "    </tr>\n",
       "    <tr>\n",
       "      <th>535227</th>\n",
       "      <td>536559</td>\n",
       "      <td>2018-12-01</td>\n",
       "      <td>51014L</td>\n",
       "      <td>Feather Pen Light Pink</td>\n",
       "      <td>11.12</td>\n",
       "      <td>12</td>\n",
       "      <td>17873.0</td>\n",
       "      <td>United Kingdom</td>\n",
       "    </tr>\n",
       "    <tr>\n",
       "      <th>535310</th>\n",
       "      <td>536569</td>\n",
       "      <td>2018-12-01</td>\n",
       "      <td>22111</td>\n",
       "      <td>Scottie Dog Hot Water Bottle</td>\n",
       "      <td>15.32</td>\n",
       "      <td>1</td>\n",
       "      <td>16274.0</td>\n",
       "      <td>United Kingdom</td>\n",
       "    </tr>\n",
       "    <tr>\n",
       "      <th>535327</th>\n",
       "      <td>536569</td>\n",
       "      <td>2018-12-01</td>\n",
       "      <td>21809</td>\n",
       "      <td>Christmas Hanging Tree With Bell</td>\n",
       "      <td>11.53</td>\n",
       "      <td>1</td>\n",
       "      <td>16274.0</td>\n",
       "      <td>United Kingdom</td>\n",
       "    </tr>\n",
       "    <tr>\n",
       "      <th>535960</th>\n",
       "      <td>536592</td>\n",
       "      <td>2018-12-01</td>\n",
       "      <td>82613A</td>\n",
       "      <td>Metal Sign Cupcake Single Hook</td>\n",
       "      <td>12.82</td>\n",
       "      <td>1</td>\n",
       "      <td>16592.0</td>\n",
       "      <td>United Kingdom</td>\n",
       "    </tr>\n",
       "    <tr>\n",
       "      <th>536190</th>\n",
       "      <td>536528</td>\n",
       "      <td>2018-12-01</td>\n",
       "      <td>22839</td>\n",
       "      <td>3 Tier Cake Tin Green And Cream</td>\n",
       "      <td>25.57</td>\n",
       "      <td>1</td>\n",
       "      <td>15525.0</td>\n",
       "      <td>United Kingdom</td>\n",
       "    </tr>\n",
       "  </tbody>\n",
       "</table>\n",
       "<p>5200 rows × 8 columns</p>\n",
       "</div>"
      ],
      "text/plain": [
       "       TransactionNo       Date ProductNo                       ProductName  \\\n",
       "985           581497 2019-12-09     21481        Fawn Blue Hot Water Bottle   \n",
       "1365          581538 2019-12-09     23275  Set Of 3 Hanging Owls Ollie Beak   \n",
       "1401          581538 2019-12-09     22992             Revolver Wooden Ruler   \n",
       "1406          581538 2019-12-09     22694                       Wicker Star   \n",
       "1409          581538 2019-12-09     23343       Jumbo Bag Vintage Christmas   \n",
       "...              ...        ...       ...                               ...   \n",
       "535227        536559 2018-12-01    51014L            Feather Pen Light Pink   \n",
       "535310        536569 2018-12-01     22111      Scottie Dog Hot Water Bottle   \n",
       "535327        536569 2018-12-01     21809  Christmas Hanging Tree With Bell   \n",
       "535960        536592 2018-12-01    82613A    Metal Sign Cupcake Single Hook   \n",
       "536190        536528 2018-12-01     22839   3 Tier Cake Tin Green And Cream   \n",
       "\n",
       "        Price  Quantity  CustomerNo         Country  \n",
       "985      7.24         1     17497.0  United Kingdom  \n",
       "1365     6.19         1     14446.0  United Kingdom  \n",
       "1401     6.19         1     14446.0  United Kingdom  \n",
       "1406     6.19         1     14446.0  United Kingdom  \n",
       "1409     6.19         1     14446.0  United Kingdom  \n",
       "...       ...       ...         ...             ...  \n",
       "535227  11.12        12     17873.0  United Kingdom  \n",
       "535310  15.32         1     16274.0  United Kingdom  \n",
       "535327  11.53         1     16274.0  United Kingdom  \n",
       "535960  12.82         1     16592.0  United Kingdom  \n",
       "536190  25.57         1     15525.0  United Kingdom  \n",
       "\n",
       "[5200 rows x 8 columns]"
      ]
     },
     "execution_count": 26,
     "metadata": {},
     "output_type": "execute_result"
    }
   ],
   "source": [
    "# Show all rows that are duplicates (excluding the first occurrence)\n",
    "sales_data[sales_data.duplicated()]"
   ]
  },
  {
   "cell_type": "code",
   "execution_count": 27,
   "id": "1d47150e-12cd-417c-9cce-72c45edb47f7",
   "metadata": {},
   "outputs": [
    {
     "data": {
      "text/plain": [
       "5200"
      ]
     },
     "execution_count": 27,
     "metadata": {},
     "output_type": "execute_result"
    }
   ],
   "source": [
    "# to check number of duplicate records \n",
    "sales_data.duplicated().sum()"
   ]
  },
  {
   "cell_type": "markdown",
   "id": "c2b7be75-2980-4bd4-94cc-af8309f43e9f",
   "metadata": {},
   "source": [
    "#### There are 5200 records having duplicate records , so we need to delete them.!"
   ]
  },
  {
   "cell_type": "code",
   "execution_count": 29,
   "id": "273d5e24-107e-4469-8144-cbc59a9c3ce6",
   "metadata": {},
   "outputs": [
    {
     "data": {
      "text/plain": [
       "(531095, 8)"
      ]
     },
     "execution_count": 29,
     "metadata": {},
     "output_type": "execute_result"
    }
   ],
   "source": [
    "# Drop duplicate rows and keep the first occurrence\n",
    "sales_data = sales_data.drop_duplicates()\n",
    "sales_data.shape"
   ]
  },
  {
   "cell_type": "markdown",
   "id": "0414fa1a-7920-49b2-8a17-5569182e6a85",
   "metadata": {},
   "source": [
    "#### We can see that now the records have come down to 531095 ( after deleting 5200 rows from earlier file which had 536,295 records )"
   ]
  },
  {
   "cell_type": "code",
   "execution_count": 31,
   "id": "4c2043ef-3edd-4d42-b42d-4f9a77c12443",
   "metadata": {},
   "outputs": [
    {
     "data": {
      "text/plain": [
       "0"
      ]
     },
     "execution_count": 31,
     "metadata": {},
     "output_type": "execute_result"
    }
   ],
   "source": [
    "# check whether there are still any duplicate values now ?\n",
    "sales_data.duplicated().sum()"
   ]
  },
  {
   "cell_type": "markdown",
   "id": "fb78af41-8f6b-4fc9-a736-36dfa2cb1d26",
   "metadata": {},
   "source": [
    "## Feature Engineering activities \n",
    "#### Create / add new columns of year  / month / week and weekdays "
   ]
  },
  {
   "cell_type": "code",
   "execution_count": 33,
   "id": "98bebf32-a376-443f-98b0-3e5cdcc113f1",
   "metadata": {},
   "outputs": [
    {
     "data": {
      "text/html": [
       "<div>\n",
       "<style scoped>\n",
       "    .dataframe tbody tr th:only-of-type {\n",
       "        vertical-align: middle;\n",
       "    }\n",
       "\n",
       "    .dataframe tbody tr th {\n",
       "        vertical-align: top;\n",
       "    }\n",
       "\n",
       "    .dataframe thead th {\n",
       "        text-align: right;\n",
       "    }\n",
       "</style>\n",
       "<table border=\"1\" class=\"dataframe\">\n",
       "  <thead>\n",
       "    <tr style=\"text-align: right;\">\n",
       "      <th></th>\n",
       "      <th>TransactionNo</th>\n",
       "      <th>Date</th>\n",
       "      <th>ProductNo</th>\n",
       "      <th>ProductName</th>\n",
       "      <th>Price</th>\n",
       "      <th>Quantity</th>\n",
       "      <th>CustomerNo</th>\n",
       "      <th>Country</th>\n",
       "      <th>Year</th>\n",
       "      <th>Month</th>\n",
       "      <th>Week</th>\n",
       "      <th>weekday</th>\n",
       "    </tr>\n",
       "  </thead>\n",
       "  <tbody>\n",
       "    <tr>\n",
       "      <th>0</th>\n",
       "      <td>581482</td>\n",
       "      <td>2019-12-09</td>\n",
       "      <td>22485</td>\n",
       "      <td>Set Of 2 Wooden Market Crates</td>\n",
       "      <td>21.47</td>\n",
       "      <td>12</td>\n",
       "      <td>17490.0</td>\n",
       "      <td>United Kingdom</td>\n",
       "      <td>2019</td>\n",
       "      <td>12</td>\n",
       "      <td>50</td>\n",
       "      <td>Monday</td>\n",
       "    </tr>\n",
       "    <tr>\n",
       "      <th>1</th>\n",
       "      <td>581475</td>\n",
       "      <td>2019-12-09</td>\n",
       "      <td>22596</td>\n",
       "      <td>Christmas Star Wish List Chalkboard</td>\n",
       "      <td>10.65</td>\n",
       "      <td>36</td>\n",
       "      <td>13069.0</td>\n",
       "      <td>United Kingdom</td>\n",
       "      <td>2019</td>\n",
       "      <td>12</td>\n",
       "      <td>50</td>\n",
       "      <td>Monday</td>\n",
       "    </tr>\n",
       "    <tr>\n",
       "      <th>2</th>\n",
       "      <td>581475</td>\n",
       "      <td>2019-12-09</td>\n",
       "      <td>23235</td>\n",
       "      <td>Storage Tin Vintage Leaf</td>\n",
       "      <td>11.53</td>\n",
       "      <td>12</td>\n",
       "      <td>13069.0</td>\n",
       "      <td>United Kingdom</td>\n",
       "      <td>2019</td>\n",
       "      <td>12</td>\n",
       "      <td>50</td>\n",
       "      <td>Monday</td>\n",
       "    </tr>\n",
       "    <tr>\n",
       "      <th>3</th>\n",
       "      <td>581475</td>\n",
       "      <td>2019-12-09</td>\n",
       "      <td>23272</td>\n",
       "      <td>Tree T-Light Holder Willie Winkie</td>\n",
       "      <td>10.65</td>\n",
       "      <td>12</td>\n",
       "      <td>13069.0</td>\n",
       "      <td>United Kingdom</td>\n",
       "      <td>2019</td>\n",
       "      <td>12</td>\n",
       "      <td>50</td>\n",
       "      <td>Monday</td>\n",
       "    </tr>\n",
       "    <tr>\n",
       "      <th>4</th>\n",
       "      <td>581475</td>\n",
       "      <td>2019-12-09</td>\n",
       "      <td>23239</td>\n",
       "      <td>Set Of 4 Knick Knack Tins Poppies</td>\n",
       "      <td>11.94</td>\n",
       "      <td>6</td>\n",
       "      <td>13069.0</td>\n",
       "      <td>United Kingdom</td>\n",
       "      <td>2019</td>\n",
       "      <td>12</td>\n",
       "      <td>50</td>\n",
       "      <td>Monday</td>\n",
       "    </tr>\n",
       "  </tbody>\n",
       "</table>\n",
       "</div>"
      ],
      "text/plain": [
       "  TransactionNo       Date ProductNo                          ProductName  \\\n",
       "0        581482 2019-12-09     22485        Set Of 2 Wooden Market Crates   \n",
       "1        581475 2019-12-09     22596  Christmas Star Wish List Chalkboard   \n",
       "2        581475 2019-12-09     23235             Storage Tin Vintage Leaf   \n",
       "3        581475 2019-12-09     23272    Tree T-Light Holder Willie Winkie   \n",
       "4        581475 2019-12-09     23239    Set Of 4 Knick Knack Tins Poppies   \n",
       "\n",
       "   Price  Quantity  CustomerNo         Country  Year  Month  Week weekday  \n",
       "0  21.47        12     17490.0  United Kingdom  2019     12    50  Monday  \n",
       "1  10.65        36     13069.0  United Kingdom  2019     12    50  Monday  \n",
       "2  11.53        12     13069.0  United Kingdom  2019     12    50  Monday  \n",
       "3  10.65        12     13069.0  United Kingdom  2019     12    50  Monday  \n",
       "4  11.94         6     13069.0  United Kingdom  2019     12    50  Monday  "
      ]
     },
     "execution_count": 33,
     "metadata": {},
     "output_type": "execute_result"
    }
   ],
   "source": [
    "# Assuming 'Date' is already a datetime column, add year month and week columns \n",
    "sales_data['Year'] = sales_data['Date'].dt.year\n",
    "sales_data['Month'] = sales_data['Date'].dt.month\n",
    "sales_data['Week'] = sales_data['Date'].dt.isocalendar().week\n",
    "sales_data['weekday'] = sales_data['Date'].dt.day_name()\n",
    "sales_data.head()"
   ]
  },
  {
   "cell_type": "code",
   "execution_count": 34,
   "id": "25062f05-74d7-4715-ba01-2b7308ca4ad6",
   "metadata": {},
   "outputs": [
    {
     "data": {
      "text/plain": [
       "(531095, 12)"
      ]
     },
     "execution_count": 34,
     "metadata": {},
     "output_type": "execute_result"
    }
   ],
   "source": [
    "sales_data.shape"
   ]
  },
  {
   "cell_type": "markdown",
   "id": "2f20413a-7c2a-42a7-a6de-1bdfe3b5e94e",
   "metadata": {},
   "source": [
    "#### Check for any outliers in Price and Quantity columns "
   ]
  },
  {
   "cell_type": "code",
   "execution_count": 21,
   "id": "dcc4fbc9-44d5-46cf-b6f9-65d06e98efbf",
   "metadata": {},
   "outputs": [
    {
     "name": "stdout",
     "output_type": "stream",
     "text": [
      "Boxplot saved at: /home/Isha/USD/usd_project_aai_500/AAI-500-IN1_PROJECT/visuals/data_cleansing_charts/outlier_price.png\n"
     ]
    },
    {
     "data": {
      "image/png": "[encoded data removed]",
      "text/plain": [
       "<Figure size 640x480 with 1 Axes>"
      ]
     },
     "metadata": {},
     "output_type": "display_data"
    }
   ],
   "source": [
    "sns.boxplot(data=sales_data['Price']) \n",
    "\n",
    "# Saving output as png in visulas/data_cleansing_charts\n",
    "output_file = os.path.join(output_dir, \"outlier_price.png\")\n",
    "plt.savefig(output_file, dpi=300, bbox_inches='tight')\n",
    "\n",
    "print(f\"Boxplot saved at: {output_file}\")"
   ]
  },
  {
   "cell_type": "code",
   "execution_count": 37,
   "id": "aec1576c-c4fc-44ba-a046-c07206bd99df",
   "metadata": {},
   "outputs": [
    {
     "data": {
      "text/plain": [
       "<Axes: >"
      ]
     },
     "execution_count": 37,
     "metadata": {},
     "output_type": "execute_result"
    },
    {
     "data": {
      "image/png": "[encoded data removed]",
      "text/plain": [
       "<Figure size 640x480 with 1 Axes>"
      ]
     },
     "metadata": {},
     "output_type": "display_data"
    }
   ],
   "source": [
    "sns.boxplot(data=sales_data['Quantity'])"
   ]
  },
  {
   "cell_type": "code",
   "execution_count": null,
   "id": "acba400c-0c64-4cd3-9b2d-17161b43962a",
   "metadata": {},
   "outputs": [],
   "source": []
  },
  {
   "cell_type": "code",
   "execution_count": 38,
   "id": "6243b476-73eb-4755-8ac3-263f9debdcfc",
   "metadata": {},
   "outputs": [
    {
     "data": {
      "text/html": [
       "<div>\n",
       "<style scoped>\n",
       "    .dataframe tbody tr th:only-of-type {\n",
       "        vertical-align: middle;\n",
       "    }\n",
       "\n",
       "    .dataframe tbody tr th {\n",
       "        vertical-align: top;\n",
       "    }\n",
       "\n",
       "    .dataframe thead th {\n",
       "        text-align: right;\n",
       "    }\n",
       "</style>\n",
       "<table border=\"1\" class=\"dataframe\">\n",
       "  <thead>\n",
       "    <tr style=\"text-align: right;\">\n",
       "      <th></th>\n",
       "      <th>Date</th>\n",
       "      <th>Price</th>\n",
       "      <th>Quantity</th>\n",
       "      <th>CustomerNo</th>\n",
       "      <th>Year</th>\n",
       "      <th>Month</th>\n",
       "      <th>Week</th>\n",
       "    </tr>\n",
       "  </thead>\n",
       "  <tbody>\n",
       "    <tr>\n",
       "      <th>count</th>\n",
       "      <td>531095</td>\n",
       "      <td>531095.000000</td>\n",
       "      <td>531095.000000</td>\n",
       "      <td>531095.000000</td>\n",
       "      <td>531095.000000</td>\n",
       "      <td>531095.000000</td>\n",
       "      <td>531095.0</td>\n",
       "    </tr>\n",
       "    <tr>\n",
       "      <th>mean</th>\n",
       "      <td>2019-07-04 00:29:26.409399296</td>\n",
       "      <td>12.669635</td>\n",
       "      <td>9.993146</td>\n",
       "      <td>15222.612241</td>\n",
       "      <td>2018.921743</td>\n",
       "      <td>7.552238</td>\n",
       "      <td>30.995059</td>\n",
       "    </tr>\n",
       "    <tr>\n",
       "      <th>min</th>\n",
       "      <td>2018-12-01 00:00:00</td>\n",
       "      <td>5.130000</td>\n",
       "      <td>-80995.000000</td>\n",
       "      <td>12004.000000</td>\n",
       "      <td>2018.000000</td>\n",
       "      <td>1.000000</td>\n",
       "      <td>1.0</td>\n",
       "    </tr>\n",
       "    <tr>\n",
       "      <th>25%</th>\n",
       "      <td>2019-03-28 00:00:00</td>\n",
       "      <td>10.990000</td>\n",
       "      <td>1.000000</td>\n",
       "      <td>13798.000000</td>\n",
       "      <td>2019.000000</td>\n",
       "      <td>5.000000</td>\n",
       "      <td>19.0</td>\n",
       "    </tr>\n",
       "    <tr>\n",
       "      <th>50%</th>\n",
       "      <td>2019-07-20 00:00:00</td>\n",
       "      <td>11.940000</td>\n",
       "      <td>3.000000</td>\n",
       "      <td>15146.000000</td>\n",
       "      <td>2019.000000</td>\n",
       "      <td>8.000000</td>\n",
       "      <td>34.0</td>\n",
       "    </tr>\n",
       "    <tr>\n",
       "      <th>75%</th>\n",
       "      <td>2019-10-19 00:00:00</td>\n",
       "      <td>14.090000</td>\n",
       "      <td>10.000000</td>\n",
       "      <td>16727.000000</td>\n",
       "      <td>2019.000000</td>\n",
       "      <td>11.000000</td>\n",
       "      <td>45.0</td>\n",
       "    </tr>\n",
       "    <tr>\n",
       "      <th>max</th>\n",
       "      <td>2019-12-09 00:00:00</td>\n",
       "      <td>660.620000</td>\n",
       "      <td>80995.000000</td>\n",
       "      <td>18287.000000</td>\n",
       "      <td>2019.000000</td>\n",
       "      <td>12.000000</td>\n",
       "      <td>51.0</td>\n",
       "    </tr>\n",
       "    <tr>\n",
       "      <th>std</th>\n",
       "      <td>NaN</td>\n",
       "      <td>8.526181</td>\n",
       "      <td>217.710261</td>\n",
       "      <td>1716.633588</td>\n",
       "      <td>0.268576</td>\n",
       "      <td>3.508959</td>\n",
       "      <td>15.163434</td>\n",
       "    </tr>\n",
       "  </tbody>\n",
       "</table>\n",
       "</div>"
      ],
      "text/plain": [
       "                                Date          Price       Quantity  \\\n",
       "count                         531095  531095.000000  531095.000000   \n",
       "mean   2019-07-04 00:29:26.409399296      12.669635       9.993146   \n",
       "min              2018-12-01 00:00:00       5.130000  -80995.000000   \n",
       "25%              2019-03-28 00:00:00      10.990000       1.000000   \n",
       "50%              2019-07-20 00:00:00      11.940000       3.000000   \n",
       "75%              2019-10-19 00:00:00      14.090000      10.000000   \n",
       "max              2019-12-09 00:00:00     660.620000   80995.000000   \n",
       "std                              NaN       8.526181     217.710261   \n",
       "\n",
       "          CustomerNo           Year          Month       Week  \n",
       "count  531095.000000  531095.000000  531095.000000   531095.0  \n",
       "mean    15222.612241    2018.921743       7.552238  30.995059  \n",
       "min     12004.000000    2018.000000       1.000000        1.0  \n",
       "25%     13798.000000    2019.000000       5.000000       19.0  \n",
       "50%     15146.000000    2019.000000       8.000000       34.0  \n",
       "75%     16727.000000    2019.000000      11.000000       45.0  \n",
       "max     18287.000000    2019.000000      12.000000       51.0  \n",
       "std      1716.633588       0.268576       3.508959  15.163434  "
      ]
     },
     "execution_count": 38,
     "metadata": {},
     "output_type": "execute_result"
    }
   ],
   "source": [
    "##### Confirm using descibe also\n",
    "sales_data.describe()"
   ]
  },
  {
   "cell_type": "markdown",
   "id": "d04aa79a-1e2a-4dfa-aa56-2a9bd3c32a9f",
   "metadata": {},
   "source": [
    "#### There are a few outliers on price - higher side and on Quantity on each side\n",
    "#### Even though there quite a few outliers in price and quanity , we have taken a call to retain them as it is, because they are not erroneous and may change the statistics and total amount."
   ]
  },
  {
   "cell_type": "code",
   "execution_count": 40,
   "id": "0b304bba-636a-4b3e-9535-6023455cd68d",
   "metadata": {},
   "outputs": [
    {
     "data": {
      "text/plain": [
       "<bound method DataFrame.sum of Empty DataFrame\n",
       "Columns: [TransactionNo, Date, ProductNo, ProductName, Price, Quantity, CustomerNo, Country, Year, Month, Week, weekday]\n",
       "Index: []>"
      ]
     },
     "execution_count": 40,
     "metadata": {},
     "output_type": "execute_result"
    }
   ],
   "source": [
    "# Negative prices\n",
    "sales_data[sales_data['Price'] < 0].sum"
   ]
  },
  {
   "cell_type": "markdown",
   "id": "1da2a763-c676-4f3d-aa0e-bbf6d5ea01f2",
   "metadata": {},
   "source": [
    "#### so there no negative price values !"
   ]
  },
  {
   "cell_type": "code",
   "execution_count": 42,
   "id": "51475f65-7d29-434f-9ef6-b52a34c78ee4",
   "metadata": {},
   "outputs": [
    {
     "data": {
      "text/plain": [
       "38"
      ]
     },
     "execution_count": 42,
     "metadata": {},
     "output_type": "execute_result"
    }
   ],
   "source": [
    "# finding out how many unique countries exists in database \n",
    "sales_data[\"Country\"].nunique()"
   ]
  },
  {
   "cell_type": "code",
   "execution_count": 43,
   "id": "44ff3cb6-5c5f-4fc9-9212-50cc502a6c32",
   "metadata": {},
   "outputs": [
    {
     "data": {
      "text/plain": [
       "Country\n",
       "United Kingdom          479950\n",
       "Germany                  10656\n",
       "France                   10509\n",
       "EIRE                      8024\n",
       "Belgium                   2539\n",
       "Spain                     2426\n",
       "Netherlands               2330\n",
       "Switzerland               2330\n",
       "Portugal                  1840\n",
       "Australia                 1702\n",
       "Norway                     938\n",
       "Austria                    887\n",
       "Iceland                    785\n",
       "Finland                    692\n",
       "Italy                      661\n",
       "Channel Islands            629\n",
       "Cyprus                     569\n",
       "Unspecified                443\n",
       "Sweden                     417\n",
       "Denmark                    416\n",
       "USA                        378\n",
       "Japan                      371\n",
       "Israel                     353\n",
       "Singapore                  215\n",
       "Poland                     174\n",
       "Canada                     149\n",
       "Malta                      149\n",
       "Hong Kong                  149\n",
       "Greece                      67\n",
       "United Arab Emirates        67\n",
       "European Community          58\n",
       "RSA                         57\n",
       "Lebanon                     45\n",
       "Lithuania                   34\n",
       "Brazil                      31\n",
       "Czech Republic              28\n",
       "Bahrain                     17\n",
       "Saudi Arabia                10\n",
       "Name: count, dtype: int64"
      ]
     },
     "execution_count": 43,
     "metadata": {},
     "output_type": "execute_result"
    }
   ],
   "source": [
    "sales_data[\"Country\"].value_counts()"
   ]
  },
  {
   "cell_type": "code",
   "execution_count": 45,
   "id": "23e1afb5-b95d-460a-98e8-a8f3cb2e9a64",
   "metadata": {},
   "outputs": [],
   "source": [
    "# all these countries belong to some regions, these regions are listed in anothe data file \"Country_to_Region_Mapping.csv\"\n",
    "# we decided to add regional information to this database by merging these two files \n",
    "country_region_df = pd.read_csv(r\"C:\\Users\\yogsa\\OneDrive\\Documents\\GitHub\\AAI-500-IN1_PROJECT\\data\\Raw\\Country_to_Region_Mapping.csv\")\n",
    "sales_data_with_region = sales_data.merge(country_region_df, on=\"Country\", how=\"left\")\n"
   ]
  },
  {
   "cell_type": "code",
   "execution_count": 47,
   "id": "37234956-c8df-4590-863f-a6b3379bae29",
   "metadata": {},
   "outputs": [
    {
     "data": {
      "text/html": [
       "<div>\n",
       "<style scoped>\n",
       "    .dataframe tbody tr th:only-of-type {\n",
       "        vertical-align: middle;\n",
       "    }\n",
       "\n",
       "    .dataframe tbody tr th {\n",
       "        vertical-align: top;\n",
       "    }\n",
       "\n",
       "    .dataframe thead th {\n",
       "        text-align: right;\n",
       "    }\n",
       "</style>\n",
       "<table border=\"1\" class=\"dataframe\">\n",
       "  <thead>\n",
       "    <tr style=\"text-align: right;\">\n",
       "      <th></th>\n",
       "      <th>TransactionNo</th>\n",
       "      <th>Date</th>\n",
       "      <th>ProductNo</th>\n",
       "      <th>ProductName</th>\n",
       "      <th>Price</th>\n",
       "      <th>Quantity</th>\n",
       "      <th>CustomerNo</th>\n",
       "      <th>Country</th>\n",
       "      <th>Year</th>\n",
       "      <th>Month</th>\n",
       "      <th>Week</th>\n",
       "      <th>weekday</th>\n",
       "      <th>Region</th>\n",
       "    </tr>\n",
       "  </thead>\n",
       "  <tbody>\n",
       "    <tr>\n",
       "      <th>0</th>\n",
       "      <td>581482</td>\n",
       "      <td>2019-12-09</td>\n",
       "      <td>22485</td>\n",
       "      <td>Set Of 2 Wooden Market Crates</td>\n",
       "      <td>21.47</td>\n",
       "      <td>12</td>\n",
       "      <td>17490.0</td>\n",
       "      <td>United Kingdom</td>\n",
       "      <td>2019</td>\n",
       "      <td>12</td>\n",
       "      <td>50</td>\n",
       "      <td>Monday</td>\n",
       "      <td>Europe</td>\n",
       "    </tr>\n",
       "    <tr>\n",
       "      <th>1</th>\n",
       "      <td>581475</td>\n",
       "      <td>2019-12-09</td>\n",
       "      <td>22596</td>\n",
       "      <td>Christmas Star Wish List Chalkboard</td>\n",
       "      <td>10.65</td>\n",
       "      <td>36</td>\n",
       "      <td>13069.0</td>\n",
       "      <td>United Kingdom</td>\n",
       "      <td>2019</td>\n",
       "      <td>12</td>\n",
       "      <td>50</td>\n",
       "      <td>Monday</td>\n",
       "      <td>Europe</td>\n",
       "    </tr>\n",
       "    <tr>\n",
       "      <th>2</th>\n",
       "      <td>581475</td>\n",
       "      <td>2019-12-09</td>\n",
       "      <td>23235</td>\n",
       "      <td>Storage Tin Vintage Leaf</td>\n",
       "      <td>11.53</td>\n",
       "      <td>12</td>\n",
       "      <td>13069.0</td>\n",
       "      <td>United Kingdom</td>\n",
       "      <td>2019</td>\n",
       "      <td>12</td>\n",
       "      <td>50</td>\n",
       "      <td>Monday</td>\n",
       "      <td>Europe</td>\n",
       "    </tr>\n",
       "    <tr>\n",
       "      <th>3</th>\n",
       "      <td>581475</td>\n",
       "      <td>2019-12-09</td>\n",
       "      <td>23272</td>\n",
       "      <td>Tree T-Light Holder Willie Winkie</td>\n",
       "      <td>10.65</td>\n",
       "      <td>12</td>\n",
       "      <td>13069.0</td>\n",
       "      <td>United Kingdom</td>\n",
       "      <td>2019</td>\n",
       "      <td>12</td>\n",
       "      <td>50</td>\n",
       "      <td>Monday</td>\n",
       "      <td>Europe</td>\n",
       "    </tr>\n",
       "    <tr>\n",
       "      <th>4</th>\n",
       "      <td>581475</td>\n",
       "      <td>2019-12-09</td>\n",
       "      <td>23239</td>\n",
       "      <td>Set Of 4 Knick Knack Tins Poppies</td>\n",
       "      <td>11.94</td>\n",
       "      <td>6</td>\n",
       "      <td>13069.0</td>\n",
       "      <td>United Kingdom</td>\n",
       "      <td>2019</td>\n",
       "      <td>12</td>\n",
       "      <td>50</td>\n",
       "      <td>Monday</td>\n",
       "      <td>Europe</td>\n",
       "    </tr>\n",
       "  </tbody>\n",
       "</table>\n",
       "</div>"
      ],
      "text/plain": [
       "  TransactionNo       Date ProductNo                          ProductName  \\\n",
       "0        581482 2019-12-09     22485        Set Of 2 Wooden Market Crates   \n",
       "1        581475 2019-12-09     22596  Christmas Star Wish List Chalkboard   \n",
       "2        581475 2019-12-09     23235             Storage Tin Vintage Leaf   \n",
       "3        581475 2019-12-09     23272    Tree T-Light Holder Willie Winkie   \n",
       "4        581475 2019-12-09     23239    Set Of 4 Knick Knack Tins Poppies   \n",
       "\n",
       "   Price  Quantity  CustomerNo         Country  Year  Month  Week weekday  \\\n",
       "0  21.47        12     17490.0  United Kingdom  2019     12    50  Monday   \n",
       "1  10.65        36     13069.0  United Kingdom  2019     12    50  Monday   \n",
       "2  11.53        12     13069.0  United Kingdom  2019     12    50  Monday   \n",
       "3  10.65        12     13069.0  United Kingdom  2019     12    50  Monday   \n",
       "4  11.94         6     13069.0  United Kingdom  2019     12    50  Monday   \n",
       "\n",
       "   Region  \n",
       "0  Europe  \n",
       "1  Europe  \n",
       "2  Europe  \n",
       "3  Europe  \n",
       "4  Europe  "
      ]
     },
     "execution_count": 47,
     "metadata": {},
     "output_type": "execute_result"
    }
   ],
   "source": [
    "sales_data_with_region.head()"
   ]
  },
  {
   "cell_type": "code",
   "execution_count": 49,
   "id": "cb9224b3-4784-47a5-b547-a304261d8a1e",
   "metadata": {},
   "outputs": [
    {
     "data": {
      "text/plain": [
       "(531095, 13)"
      ]
     },
     "execution_count": 49,
     "metadata": {},
     "output_type": "execute_result"
    }
   ],
   "source": [
    "sales_data_with_region.shape"
   ]
  },
  {
   "cell_type": "code",
   "execution_count": 51,
   "id": "ca997ca3-4333-48e2-a0d5-938df79f02fd",
   "metadata": {},
   "outputs": [
    {
     "name": "stdout",
     "output_type": "stream",
     "text": [
      "<class 'pandas.core.frame.DataFrame'>\n",
      "RangeIndex: 531095 entries, 0 to 531094\n",
      "Data columns (total 13 columns):\n",
      " #   Column         Non-Null Count   Dtype         \n",
      "---  ------         --------------   -----         \n",
      " 0   TransactionNo  531095 non-null  object        \n",
      " 1   Date           531095 non-null  datetime64[ns]\n",
      " 2   ProductNo      531095 non-null  object        \n",
      " 3   ProductName    531095 non-null  object        \n",
      " 4   Price          531095 non-null  float64       \n",
      " 5   Quantity       531095 non-null  int64         \n",
      " 6   CustomerNo     531095 non-null  float64       \n",
      " 7   Country        531095 non-null  object        \n",
      " 8   Year           531095 non-null  int32         \n",
      " 9   Month          531095 non-null  int32         \n",
      " 10  Week           531095 non-null  UInt32        \n",
      " 11  weekday        531095 non-null  object        \n",
      " 12  Region         531095 non-null  object        \n",
      "dtypes: UInt32(1), datetime64[ns](1), float64(2), int32(2), int64(1), object(6)\n",
      "memory usage: 47.1+ MB\n"
     ]
    }
   ],
   "source": [
    "sales_data_with_region.info()\n"
   ]
  },
  {
   "cell_type": "markdown",
   "id": "342e30a4-7010-4bdc-ab9b-d5ed69cb1cdc",
   "metadata": {},
   "source": [
    "#### The processed, cleaned up final data file after adding Region information now has 531,095 rows and 14 columns"
   ]
  },
  {
   "cell_type": "markdown",
   "id": "39a0f5ff-fade-4bb8-852c-acaeb383e756",
   "metadata": {},
   "source": [
    "## A few EDA activities , to find area wise sales data are done in below code "
   ]
  },
  {
   "cell_type": "code",
   "execution_count": 55,
   "id": "4e1f2c48-2a24-49b3-ab77-bfd34f040bea",
   "metadata": {},
   "outputs": [
    {
     "data": {
      "text/plain": [
       "Region\n",
       "Europe           527108\n",
       "Oceania            1702\n",
       "Asia               1227\n",
       "North America       527\n",
       "Other/Unknown       443\n",
       "Africa               57\n",
       "South America        31\n",
       "Name: count, dtype: int64"
      ]
     },
     "execution_count": 55,
     "metadata": {},
     "output_type": "execute_result"
    }
   ],
   "source": [
    "sales_data_with_region[\"Region\"].value_counts()"
   ]
  },
  {
   "cell_type": "code",
   "execution_count": 57,
   "id": "fc20ab9d-cf7d-4345-857a-1cfe10078e67",
   "metadata": {},
   "outputs": [],
   "source": [
    "# 1. Create a new column for TotalSales\n",
    "sales_data_with_region[\"TotalSales\"] = sales_data_with_region[\"Price\"] * sales_data_with_region[\"Quantity\"]\n",
    "\n",
    "# 2. Group by Country\n",
    "sales_by_country = sales_data_with_region.groupby(\"Country\")[\"TotalSales\"].sum().reset_index()\n",
    "\n",
    "# 3. Group by Region\n",
    "sales_by_region = sales_data_with_region.groupby(\"Region\")[\"TotalSales\"].sum().reset_index()\n"
   ]
  },
  {
   "cell_type": "code",
   "execution_count": 59,
   "id": "211af2ac-a5e2-47e9-be88-b24328fc9743",
   "metadata": {},
   "outputs": [
    {
     "data": {
      "text/html": [
       "<div>\n",
       "<style scoped>\n",
       "    .dataframe tbody tr th:only-of-type {\n",
       "        vertical-align: middle;\n",
       "    }\n",
       "\n",
       "    .dataframe tbody tr th {\n",
       "        vertical-align: top;\n",
       "    }\n",
       "\n",
       "    .dataframe thead th {\n",
       "        text-align: right;\n",
       "    }\n",
       "</style>\n",
       "<table border=\"1\" class=\"dataframe\">\n",
       "  <thead>\n",
       "    <tr style=\"text-align: right;\">\n",
       "      <th></th>\n",
       "      <th>Country</th>\n",
       "      <th>TotalSales</th>\n",
       "    </tr>\n",
       "  </thead>\n",
       "  <tbody>\n",
       "    <tr>\n",
       "      <th>0</th>\n",
       "      <td>Australia</td>\n",
       "      <td>988562.45</td>\n",
       "    </tr>\n",
       "    <tr>\n",
       "      <th>1</th>\n",
       "      <td>Austria</td>\n",
       "      <td>68548.30</td>\n",
       "    </tr>\n",
       "    <tr>\n",
       "      <th>2</th>\n",
       "      <td>Bahrain</td>\n",
       "      <td>3226.86</td>\n",
       "    </tr>\n",
       "    <tr>\n",
       "      <th>3</th>\n",
       "      <td>Belgium</td>\n",
       "      <td>271346.98</td>\n",
       "    </tr>\n",
       "    <tr>\n",
       "      <th>4</th>\n",
       "      <td>Brazil</td>\n",
       "      <td>4652.27</td>\n",
       "    </tr>\n",
       "    <tr>\n",
       "      <th>5</th>\n",
       "      <td>Canada</td>\n",
       "      <td>30398.67</td>\n",
       "    </tr>\n",
       "    <tr>\n",
       "      <th>6</th>\n",
       "      <td>Channel Islands</td>\n",
       "      <td>95783.19</td>\n",
       "    </tr>\n",
       "    <tr>\n",
       "      <th>7</th>\n",
       "      <td>Cyprus</td>\n",
       "      <td>61499.82</td>\n",
       "    </tr>\n",
       "    <tr>\n",
       "      <th>8</th>\n",
       "      <td>Czech Republic</td>\n",
       "      <td>6756.80</td>\n",
       "    </tr>\n",
       "    <tr>\n",
       "      <th>9</th>\n",
       "      <td>Denmark</td>\n",
       "      <td>100439.12</td>\n",
       "    </tr>\n",
       "    <tr>\n",
       "      <th>10</th>\n",
       "      <td>EIRE</td>\n",
       "      <td>1659053.51</td>\n",
       "    </tr>\n",
       "    <tr>\n",
       "      <th>11</th>\n",
       "      <td>European Community</td>\n",
       "      <td>6181.01</td>\n",
       "    </tr>\n",
       "    <tr>\n",
       "      <th>12</th>\n",
       "      <td>Finland</td>\n",
       "      <td>120597.86</td>\n",
       "    </tr>\n",
       "    <tr>\n",
       "      <th>13</th>\n",
       "      <td>France</td>\n",
       "      <td>1316144.75</td>\n",
       "    </tr>\n",
       "    <tr>\n",
       "      <th>14</th>\n",
       "      <td>Germany</td>\n",
       "      <td>1348561.75</td>\n",
       "    </tr>\n",
       "    <tr>\n",
       "      <th>15</th>\n",
       "      <td>Greece</td>\n",
       "      <td>9666.53</td>\n",
       "    </tr>\n",
       "    <tr>\n",
       "      <th>16</th>\n",
       "      <td>Hong Kong</td>\n",
       "      <td>27006.66</td>\n",
       "    </tr>\n",
       "    <tr>\n",
       "      <th>17</th>\n",
       "      <td>Iceland</td>\n",
       "      <td>38307.42</td>\n",
       "    </tr>\n",
       "    <tr>\n",
       "      <th>18</th>\n",
       "      <td>Israel</td>\n",
       "      <td>54722.14</td>\n",
       "    </tr>\n",
       "    <tr>\n",
       "      <th>19</th>\n",
       "      <td>Italy</td>\n",
       "      <td>77397.22</td>\n",
       "    </tr>\n",
       "    <tr>\n",
       "      <th>20</th>\n",
       "      <td>Japan</td>\n",
       "      <td>283293.47</td>\n",
       "    </tr>\n",
       "    <tr>\n",
       "      <th>21</th>\n",
       "      <td>Lebanon</td>\n",
       "      <td>5692.32</td>\n",
       "    </tr>\n",
       "    <tr>\n",
       "      <th>22</th>\n",
       "      <td>Lithuania</td>\n",
       "      <td>8188.08</td>\n",
       "    </tr>\n",
       "    <tr>\n",
       "      <th>23</th>\n",
       "      <td>Malta</td>\n",
       "      <td>12509.11</td>\n",
       "    </tr>\n",
       "    <tr>\n",
       "      <th>24</th>\n",
       "      <td>Netherlands</td>\n",
       "      <td>2147811.39</td>\n",
       "    </tr>\n",
       "    <tr>\n",
       "      <th>25</th>\n",
       "      <td>Norway</td>\n",
       "      <td>187544.79</td>\n",
       "    </tr>\n",
       "    <tr>\n",
       "      <th>26</th>\n",
       "      <td>Poland</td>\n",
       "      <td>19753.30</td>\n",
       "    </tr>\n",
       "    <tr>\n",
       "      <th>27</th>\n",
       "      <td>Portugal</td>\n",
       "      <td>175118.33</td>\n",
       "    </tr>\n",
       "    <tr>\n",
       "      <th>28</th>\n",
       "      <td>RSA</td>\n",
       "      <td>4259.83</td>\n",
       "    </tr>\n",
       "    <tr>\n",
       "      <th>29</th>\n",
       "      <td>Saudi Arabia</td>\n",
       "      <td>903.15</td>\n",
       "    </tr>\n",
       "    <tr>\n",
       "      <th>30</th>\n",
       "      <td>Singapore</td>\n",
       "      <td>63480.95</td>\n",
       "    </tr>\n",
       "    <tr>\n",
       "      <th>31</th>\n",
       "      <td>Spain</td>\n",
       "      <td>265570.33</td>\n",
       "    </tr>\n",
       "    <tr>\n",
       "      <th>32</th>\n",
       "      <td>Sweden</td>\n",
       "      <td>396042.61</td>\n",
       "    </tr>\n",
       "    <tr>\n",
       "      <th>33</th>\n",
       "      <td>Switzerland</td>\n",
       "      <td>358146.32</td>\n",
       "    </tr>\n",
       "    <tr>\n",
       "      <th>34</th>\n",
       "      <td>USA</td>\n",
       "      <td>17428.14</td>\n",
       "    </tr>\n",
       "    <tr>\n",
       "      <th>35</th>\n",
       "      <td>United Arab Emirates</td>\n",
       "      <td>11966.26</td>\n",
       "    </tr>\n",
       "    <tr>\n",
       "      <th>36</th>\n",
       "      <td>United Kingdom</td>\n",
       "      <td>49855388.84</td>\n",
       "    </tr>\n",
       "    <tr>\n",
       "      <th>37</th>\n",
       "      <td>Unspecified</td>\n",
       "      <td>32638.74</td>\n",
       "    </tr>\n",
       "  </tbody>\n",
       "</table>\n",
       "</div>"
      ],
      "text/plain": [
       "                 Country   TotalSales\n",
       "0              Australia    988562.45\n",
       "1                Austria     68548.30\n",
       "2                Bahrain      3226.86\n",
       "3                Belgium    271346.98\n",
       "4                 Brazil      4652.27\n",
       "5                 Canada     30398.67\n",
       "6        Channel Islands     95783.19\n",
       "7                 Cyprus     61499.82\n",
       "8         Czech Republic      6756.80\n",
       "9                Denmark    100439.12\n",
       "10                  EIRE   1659053.51\n",
       "11    European Community      6181.01\n",
       "12               Finland    120597.86\n",
       "13                France   1316144.75\n",
       "14               Germany   1348561.75\n",
       "15                Greece      9666.53\n",
       "16             Hong Kong     27006.66\n",
       "17               Iceland     38307.42\n",
       "18                Israel     54722.14\n",
       "19                 Italy     77397.22\n",
       "20                 Japan    283293.47\n",
       "21               Lebanon      5692.32\n",
       "22             Lithuania      8188.08\n",
       "23                 Malta     12509.11\n",
       "24           Netherlands   2147811.39\n",
       "25                Norway    187544.79\n",
       "26                Poland     19753.30\n",
       "27              Portugal    175118.33\n",
       "28                   RSA      4259.83\n",
       "29          Saudi Arabia       903.15\n",
       "30             Singapore     63480.95\n",
       "31                 Spain    265570.33\n",
       "32                Sweden    396042.61\n",
       "33           Switzerland    358146.32\n",
       "34                   USA     17428.14\n",
       "35  United Arab Emirates     11966.26\n",
       "36        United Kingdom  49855388.84\n",
       "37           Unspecified     32638.74"
      ]
     },
     "execution_count": 59,
     "metadata": {},
     "output_type": "execute_result"
    }
   ],
   "source": [
    "sales_by_country"
   ]
  },
  {
   "cell_type": "code",
   "execution_count": 61,
   "id": "141e6e92-a460-4a46-b84f-c10b1c97b3cd",
   "metadata": {},
   "outputs": [
    {
     "data": {
      "text/html": [
       "<div>\n",
       "<style scoped>\n",
       "    .dataframe tbody tr th:only-of-type {\n",
       "        vertical-align: middle;\n",
       "    }\n",
       "\n",
       "    .dataframe tbody tr th {\n",
       "        vertical-align: top;\n",
       "    }\n",
       "\n",
       "    .dataframe thead th {\n",
       "        text-align: right;\n",
       "    }\n",
       "</style>\n",
       "<table border=\"1\" class=\"dataframe\">\n",
       "  <thead>\n",
       "    <tr style=\"text-align: right;\">\n",
       "      <th></th>\n",
       "      <th>Region</th>\n",
       "      <th>TotalSales</th>\n",
       "    </tr>\n",
       "  </thead>\n",
       "  <tbody>\n",
       "    <tr>\n",
       "      <th>0</th>\n",
       "      <td>Africa</td>\n",
       "      <td>4259.83</td>\n",
       "    </tr>\n",
       "    <tr>\n",
       "      <th>1</th>\n",
       "      <td>Asia</td>\n",
       "      <td>450291.81</td>\n",
       "    </tr>\n",
       "    <tr>\n",
       "      <th>2</th>\n",
       "      <td>Europe</td>\n",
       "      <td>58606357.36</td>\n",
       "    </tr>\n",
       "    <tr>\n",
       "      <th>3</th>\n",
       "      <td>North America</td>\n",
       "      <td>47826.81</td>\n",
       "    </tr>\n",
       "    <tr>\n",
       "      <th>4</th>\n",
       "      <td>Oceania</td>\n",
       "      <td>988562.45</td>\n",
       "    </tr>\n",
       "    <tr>\n",
       "      <th>5</th>\n",
       "      <td>Other/Unknown</td>\n",
       "      <td>32638.74</td>\n",
       "    </tr>\n",
       "    <tr>\n",
       "      <th>6</th>\n",
       "      <td>South America</td>\n",
       "      <td>4652.27</td>\n",
       "    </tr>\n",
       "  </tbody>\n",
       "</table>\n",
       "</div>"
      ],
      "text/plain": [
       "          Region   TotalSales\n",
       "0         Africa      4259.83\n",
       "1           Asia    450291.81\n",
       "2         Europe  58606357.36\n",
       "3  North America     47826.81\n",
       "4        Oceania    988562.45\n",
       "5  Other/Unknown     32638.74\n",
       "6  South America      4652.27"
      ]
     },
     "execution_count": 61,
     "metadata": {},
     "output_type": "execute_result"
    }
   ],
   "source": [
    "sales_by_region"
   ]
  },
  {
   "cell_type": "markdown",
   "id": "728f15df-21a3-4314-851f-324d6abec30b",
   "metadata": {},
   "source": [
    "### Loading Cleaned Dataset in data/processed folder for further use"
   ]
  },
  {
   "cell_type": "code",
   "execution_count": 71,
   "id": "08b68e7f-e023-4b37-9dd3-9fcd0f2ae69f",
   "metadata": {},
   "outputs": [],
   "source": [
    "\n",
    "sales_data_with_region.to_csv(r\"C:\\Users\\yogsa\\OneDrive\\Documents\\GitHub\\AAI-500-IN1_PROJECT\\data\\Processed\\01_data_cleaning.csv\", index=False)\n"
   ]
  },
  {
   "cell_type": "code",
   "execution_count": 73,
   "id": "7f6592a7-7866-43d1-9709-13c7dc068cf1",
   "metadata": {},
   "outputs": [],
   "source": [
    "file = pd.read_csv(r\"C:\\Users\\yogsa\\OneDrive\\Documents\\GitHub\\AAI-500-IN1_PROJECT\\data\\Processed\\01_data_cleaning.csv\")"
   ]
  },
  {
   "cell_type": "code",
   "execution_count": 77,
   "id": "b927555f-af85-46ed-a3d4-80ee3c317657",
   "metadata": {},
   "outputs": [
    {
     "data": {
      "text/plain": [
       "(531095, 14)"
      ]
     },
     "execution_count": 77,
     "metadata": {},
     "output_type": "execute_result"
    }
   ],
   "source": [
    "file.shape"
   ]
  },
  {
   "cell_type": "code",
   "execution_count": null,
   "id": "c26958ae-108f-411c-9167-67f07781a393",
   "metadata": {},
   "outputs": [],
   "source": []
  }
 ],
 "metadata": {
  "kernelspec": {
   "display_name": "Python 3 (ipykernel)",
   "language": "python",
   "name": "python3"
  },
  "language_info": {
   "codemirror_mode": {
    "name": "ipython",
    "version": 3
   },
   "file_extension": ".py",
   "mimetype": "text/x-python",
   "name": "python",
   "nbconvert_exporter": "python",
   "pygments_lexer": "ipython3",
   "version": "3.10.16"
  }
 },
 "nbformat": 4,
 "nbformat_minor": 5
}
